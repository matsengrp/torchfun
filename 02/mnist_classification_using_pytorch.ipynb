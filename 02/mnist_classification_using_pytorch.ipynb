{
 "cells": [
  {
   "cell_type": "markdown",
   "metadata": {
    "slideshow": {
     "slide_type": "slide"
    }
   },
   "source": [
    "# MNIST digit classification using PyTorch"
   ]
  },
  {
   "cell_type": "markdown",
   "metadata": {
    "slideshow": {
     "slide_type": "slide"
    }
   },
   "source": [
    "# Load torch and torchvision libraries"
   ]
  },
  {
   "cell_type": "code",
   "execution_count": 1,
   "metadata": {},
   "outputs": [],
   "source": [
    "import torch\n",
    "import torch.nn as nn\n",
    "import torch.nn.functional as F\n",
    "import torch.optim as optim\n",
    "from torchvision import datasets, transforms\n",
    "import numpy as np\n",
    "import matplotlib.pyplot as plt"
   ]
  },
  {
   "cell_type": "markdown",
   "metadata": {
    "slideshow": {
     "slide_type": "slide"
    }
   },
   "source": [
    "# Load MNIST training and test dataset batches"
   ]
  },
  {
   "cell_type": "code",
   "execution_count": 2,
   "metadata": {},
   "outputs": [
    {
     "name": "stdout",
     "output_type": "stream",
     "text": [
      "60000 images in training dataset.\n",
      "10000 images in test dataset.\n",
      "Each image is a torch.FloatTensor with torch.Size([1, 28, 28]).\n"
     ]
    },
    {
     "data": {
      "image/png": "[encoded data removed]",
      "text/plain": [
       "<Figure size 360x288 with 20 Axes>"
      ]
     },
     "metadata": {
      "needs_background": "light"
     },
     "output_type": "display_data"
    }
   ],
   "source": [
    "train_dataset = datasets.MNIST('./data', train=True, transform=transforms.ToTensor())\n",
    "test_dataset = datasets.MNIST('./data', train=False, transform=transforms.ToTensor())\n",
    "\n",
    "fig = plt.figure()\n",
    "for loop in range(20):\n",
    "    fig.add_subplot(4,5,loop+1)\n",
    "    plt.imshow(np.array(train_dataset[loop][0]).squeeze(), cmap='gray')\n",
    "    plt.axis('off')\n",
    "plt.subplots_adjust(wspace=0, hspace=0.05)\n",
    "fig.set_size_inches(5,4)\n",
    "\n",
    "print(f'{len(train_dataset)} images in training dataset.')\n",
    "print(f'{len(test_dataset)} images in test dataset.')\n",
    "print(f'Each image is a {train_dataset[loop][0].type()} with {train_dataset[loop][0].shape}.')"
   ]
  },
  {
   "cell_type": "markdown",
   "metadata": {
    "slideshow": {
     "slide_type": "slide"
    }
   },
   "source": [
    "# Load dataset in batches for training"
   ]
  },
  {
   "cell_type": "code",
   "execution_count": 3,
   "metadata": {},
   "outputs": [
    {
     "name": "stdout",
     "output_type": "stream",
     "text": [
      "64\n"
     ]
    }
   ],
   "source": [
    "train_loader = torch.utils.data.DataLoader(train_dataset, batch_size=64, shuffle=True)\n",
    "test_loader = torch.utils.data.DataLoader(test_dataset, batch_size=10000, shuffle=True)\n",
    "\n",
    "print(train_loader.batch_size)"
   ]
  },
  {
   "cell_type": "markdown",
   "metadata": {
    "slideshow": {
     "slide_type": "slide"
    }
   },
   "source": [
    "# Define neural network model\n"
   ]
  },
  {
   "cell_type": "code",
   "execution_count": 4,
   "metadata": {},
   "outputs": [],
   "source": [
    "class Net(nn.Module):\n",
    "    \"\"\"Two fully connected linear neuron layers\"\"\"\n",
    "    def __init__(self):\n",
    "        super(Net, self).__init__()\n",
    "        self.fc1 = nn.Linear(28 * 28, 15)\n",
    "        self.fc2 = nn.Linear(15, 10)\n",
    "\n",
    "    def forward(self, x):\n",
    "        x = torch.flatten(x, 1)\n",
    "        x = self.fc1(x)\n",
    "        x = self.fc2(x)\n",
    "        # convert to log probability\n",
    "        output = F.log_softmax(x, dim=1)\n",
    "        return output"
   ]
  },
  {
   "cell_type": "markdown",
   "metadata": {
    "slideshow": {
     "slide_type": "slide"
    }
   },
   "source": [
    "# Training routine"
   ]
  },
  {
   "cell_type": "code",
   "execution_count": 5,
   "metadata": {},
   "outputs": [],
   "source": [
    "def train(model, device, train_loader, optimizer, epoch):\n",
    "    model.train()\n",
    "    for batch_idx, (data, target) in enumerate(train_loader):\n",
    "        data, target = data.to(device), target.to(device)\n",
    "        optimizer.zero_grad()\n",
    "        output = model(data)\n",
    "        loss = F.nll_loss(output, target)\n",
    "        loss.backward()\n",
    "        optimizer.step()   "
   ]
  },
  {
   "cell_type": "markdown",
   "metadata": {
    "slideshow": {
     "slide_type": "slide"
    }
   },
   "source": [
    "# Test accuracy routine"
   ]
  },
  {
   "cell_type": "code",
   "execution_count": 6,
   "metadata": {},
   "outputs": [],
   "source": [
    "def test(model, device, test_loader):\n",
    "    model.eval()\n",
    "    test_loss = 0\n",
    "    correct = 0\n",
    "    with torch.no_grad():\n",
    "        for data, target in test_loader:\n",
    "            data, target = data.to(device), target.to(device)\n",
    "            output = model(data)\n",
    "            test_loss += F.nll_loss(output, target, reduction='sum').item()  # sum up batch loss\n",
    "            pred = output.argmax(dim=1, keepdim=True)  # get the index of the max log-probability\n",
    "            correct += pred.eq(target.view_as(pred)).sum().item()\n",
    "\n",
    "    test_loss /= len(test_loader.dataset)\n",
    "\n",
    "    print('Test set: Average loss: {:.4f}, Accuracy: {}/{} ({:.0f}%)\\n'.format(\n",
    "        test_loss, correct, len(test_loader.dataset),\n",
    "        100. * correct / len(test_loader.dataset)))"
   ]
  },
  {
   "cell_type": "markdown",
   "metadata": {
    "slideshow": {
     "slide_type": "slide"
    }
   },
   "source": [
    "# Run training"
   ]
  },
  {
   "cell_type": "code",
   "execution_count": 7,
   "metadata": {},
   "outputs": [
    {
     "name": "stdout",
     "output_type": "stream",
     "text": [
      "Epoch: 1 / 30\n",
      "Test set: Average loss: 1.9949, Accuracy: 5333/10000 (53%)\n",
      "\n",
      "Epoch: 2 / 30\n",
      "Test set: Average loss: 1.6849, Accuracy: 6276/10000 (63%)\n",
      "\n",
      "Epoch: 3 / 30\n",
      "Test set: Average loss: 1.3968, Accuracy: 7026/10000 (70%)\n",
      "\n",
      "Epoch: 4 / 30\n",
      "Test set: Average loss: 1.1576, Accuracy: 7653/10000 (77%)\n",
      "\n",
      "Epoch: 5 / 30\n",
      "Test set: Average loss: 0.9753, Accuracy: 7973/10000 (80%)\n",
      "\n",
      "Epoch: 6 / 30\n",
      "Test set: Average loss: 0.8428, Accuracy: 8209/10000 (82%)\n",
      "\n",
      "Epoch: 7 / 30\n",
      "Test set: Average loss: 0.7469, Accuracy: 8345/10000 (83%)\n",
      "\n",
      "Epoch: 8 / 30\n",
      "Test set: Average loss: 0.6759, Accuracy: 8451/10000 (85%)\n",
      "\n",
      "Epoch: 9 / 30\n",
      "Test set: Average loss: 0.6221, Accuracy: 8528/10000 (85%)\n",
      "\n",
      "Epoch: 10 / 30\n",
      "Test set: Average loss: 0.5804, Accuracy: 8600/10000 (86%)\n",
      "\n",
      "Epoch: 11 / 30\n",
      "Test set: Average loss: 0.5475, Accuracy: 8664/10000 (87%)\n",
      "\n",
      "Epoch: 12 / 30\n",
      "Test set: Average loss: 0.5205, Accuracy: 8700/10000 (87%)\n",
      "\n",
      "Epoch: 13 / 30\n",
      "Test set: Average loss: 0.4984, Accuracy: 8728/10000 (87%)\n",
      "\n",
      "Epoch: 14 / 30\n",
      "Test set: Average loss: 0.4798, Accuracy: 8758/10000 (88%)\n",
      "\n",
      "Epoch: 15 / 30\n",
      "Test set: Average loss: 0.4641, Accuracy: 8786/10000 (88%)\n",
      "\n",
      "Epoch: 16 / 30\n",
      "Test set: Average loss: 0.4507, Accuracy: 8805/10000 (88%)\n",
      "\n",
      "Epoch: 17 / 30\n",
      "Test set: Average loss: 0.4391, Accuracy: 8830/10000 (88%)\n",
      "\n",
      "Epoch: 18 / 30\n",
      "Test set: Average loss: 0.4289, Accuracy: 8841/10000 (88%)\n",
      "\n",
      "Epoch: 19 / 30\n",
      "Test set: Average loss: 0.4198, Accuracy: 8860/10000 (89%)\n",
      "\n",
      "Epoch: 20 / 30\n",
      "Test set: Average loss: 0.4118, Accuracy: 8875/10000 (89%)\n",
      "\n",
      "Epoch: 21 / 30\n",
      "Test set: Average loss: 0.4045, Accuracy: 8889/10000 (89%)\n",
      "\n",
      "Epoch: 22 / 30\n",
      "Test set: Average loss: 0.3981, Accuracy: 8909/10000 (89%)\n",
      "\n",
      "Epoch: 23 / 30\n",
      "Test set: Average loss: 0.3920, Accuracy: 8917/10000 (89%)\n",
      "\n",
      "Epoch: 24 / 30\n",
      "Test set: Average loss: 0.3866, Accuracy: 8927/10000 (89%)\n",
      "\n",
      "Epoch: 25 / 30\n",
      "Test set: Average loss: 0.3818, Accuracy: 8945/10000 (89%)\n",
      "\n",
      "Epoch: 26 / 30\n",
      "Test set: Average loss: 0.3773, Accuracy: 8959/10000 (90%)\n",
      "\n",
      "Epoch: 27 / 30\n",
      "Test set: Average loss: 0.3730, Accuracy: 8965/10000 (90%)\n",
      "\n",
      "Epoch: 28 / 30\n",
      "Test set: Average loss: 0.3692, Accuracy: 8970/10000 (90%)\n",
      "\n",
      "Epoch: 29 / 30\n",
      "Test set: Average loss: 0.3656, Accuracy: 8981/10000 (90%)\n",
      "\n",
      "Epoch: 30 / 30\n",
      "Test set: Average loss: 0.3623, Accuracy: 8983/10000 (90%)\n",
      "\n"
     ]
    }
   ],
   "source": [
    "torch.manual_seed(111)\n",
    "\n",
    "device = torch.device(\"cuda\" if torch.cuda.is_available() else \"cpu\")\n",
    "\n",
    "model = Net().to(device)\n",
    "optimizer = optim.SGD(model.parameters(), lr=1e-3)\n",
    "\n",
    "n_epochs = 30\n",
    "for epoch in range(1, n_epochs + 1):\n",
    "    train(model, device, train_loader, optimizer, epoch)\n",
    "    print(f'Epoch: {epoch} / {n_epochs}')\n",
    "    test(model, device, test_loader)"
   ]
  },
  {
   "cell_type": "markdown",
   "metadata": {
    "slideshow": {
     "slide_type": "slide"
    }
   },
   "source": [
    "# Reference\n",
    "\n",
    "Adapted from [PyTorch Basic MNIST Example](https://github.com/pytorch/examples/blob/master/mnist/main.py)"
   ]
  }
 ],
 "metadata": {
  "celltoolbar": "Slideshow",
  "kernelspec": {
   "display_name": "Python 3",
   "language": "python",
   "name": "python3"
  },
  "language_info": {
   "codemirror_mode": {
    "name": "ipython",
    "version": 3
   },
   "file_extension": ".py",
   "mimetype": "text/x-python",
   "name": "python",
   "nbconvert_exporter": "python",
   "pygments_lexer": "ipython3",
   "version": "3.7.6"
  },
  "rise": {
   "controls": false,
   "progress": false,
   "scroll": true,
   "slideNumber": false,
   "transition": "none"
  }
 },
 "nbformat": 4,
 "nbformat_minor": 4
}
