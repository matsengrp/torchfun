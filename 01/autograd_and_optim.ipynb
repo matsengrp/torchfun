{
 "cells": [
  {
   "cell_type": "code",
   "execution_count": null,
   "metadata": {},
   "outputs": [],
   "source": [
    "import torch\n",
    "import torch.optim as optim\n",
    "from torch.utils.tensorboard import SummaryWriter"
   ]
  },
  {
   "cell_type": "markdown",
   "metadata": {},
   "source": [
    "Basic backprop:"
   ]
  },
  {
   "cell_type": "code",
   "execution_count": null,
   "metadata": {},
   "outputs": [],
   "source": [
    "x = torch.tensor(5., requires_grad=True)\n",
    "\n",
    "y = (x-1).pow(2)"
   ]
  },
  {
   "cell_type": "code",
   "execution_count": null,
   "metadata": {},
   "outputs": [],
   "source": [
    "y.backward()\n",
    "x.grad"
   ]
  },
  {
   "cell_type": "markdown",
   "metadata": {},
   "source": [
    "In-place operations have an underscore:"
   ]
  },
  {
   "cell_type": "code",
   "execution_count": null,
   "metadata": {},
   "outputs": [],
   "source": [
    "x = torch.tensor(5., requires_grad=True)\n",
    "\n",
    "y = x-1\n",
    "y.pow_(2)\n",
    "\n",
    "y.backward()\n",
    "x.grad"
   ]
  },
  {
   "cell_type": "markdown",
   "metadata": {},
   "source": [
    "Here is a basic optimizer:"
   ]
  },
  {
   "cell_type": "code",
   "execution_count": null,
   "metadata": {},
   "outputs": [],
   "source": [
    "def f(in_x):\n",
    "    return (in_x-1).pow(2)\n",
    "\n",
    "x = torch.tensor(5., requires_grad=True)\n",
    "\n",
    "# lr stands for learning rate, i.e. stepsize.\n",
    "optimizer = optim.Adam([x], lr=0.1)\n",
    "\n",
    "for step_idx in range(250):\n",
    "    optimizer.zero_grad()\n",
    "    y = f(x)\n",
    "    y.backward()\n",
    "    optimizer.step()\n",
    "x"
   ]
  },
  {
   "cell_type": "markdown",
   "metadata": {},
   "source": [
    "You may wonder \"how does PyTorch know what to optimize here?\" The point is that the optimizer _doesn't know about the optimality function and it doesn't need to._ It simply needs to know what the gradient of the optimality function is with respect to x. It has that information in `x.grad`, which is calculated (after zeroing) by `y.backward()`."
   ]
  },
  {
   "cell_type": "markdown",
   "metadata": {},
   "source": [
    "#### Tensorboard\n",
    "\n",
    "At this point we may be interested in the convergence properties of our optimizer, and you may be tempted to reach for your favorite plotting library. Don't. Use [Tensorboard](https://www.tensorflow.org/tensorboard) instead.\n",
    "\n",
    "Start tensorboard with\n",
    "\n",
    "    tensorboard --logdir=runs\n",
    "    \n",
    "We'll deliberately slow things down so we can see the optimization happen in real time:"
   ]
  },
  {
   "cell_type": "code",
   "execution_count": null,
   "metadata": {},
   "outputs": [],
   "source": [
    "import time\n",
    "\n",
    "# Make a new summary writer for tensorboard; defaults to a `runs` directory.\n",
    "writer = SummaryWriter()\n",
    "\n",
    "x = torch.tensor(5., requires_grad=True)\n",
    "optimizer = optim.Adam([x], lr=0.1)\n",
    "for step_idx in range(100):\n",
    "    optimizer.zero_grad()\n",
    "    y = f(x)\n",
    "    y.backward()\n",
    "    optimizer.step()\n",
    "    writer.add_scalar(\"y\", y, step_idx)\n",
    "    time.sleep(1)"
   ]
  },
  {
   "cell_type": "code",
   "execution_count": null,
   "metadata": {},
   "outputs": [],
   "source": []
  }
 ],
 "metadata": {
  "kernelspec": {
   "display_name": "Python 3",
   "language": "python",
   "name": "python3"
  },
  "language_info": {
   "codemirror_mode": {
    "name": "ipython",
    "version": 3
   },
   "file_extension": ".py",
   "mimetype": "text/x-python",
   "name": "python",
   "nbconvert_exporter": "python",
   "pygments_lexer": "ipython3",
   "version": "3.7.5"
  }
 },
 "nbformat": 4,
 "nbformat_minor": 2
}
